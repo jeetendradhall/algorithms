{
 "cells": [
  {
   "cell_type": "markdown",
   "metadata": {},
   "source": [
    "### Horowitz - Section 5.2 - Multistage Graphs"
   ]
  },
  {
   "cell_type": "markdown",
   "metadata": {},
   "source": [
    "### Imports"
   ]
  },
  {
   "cell_type": "code",
   "execution_count": 83,
   "metadata": {},
   "outputs": [],
   "source": [
    "import sys #sys.maxsize"
   ]
  },
  {
   "cell_type": "markdown",
   "metadata": {},
   "source": [
    "### Data"
   ]
  },
  {
   "cell_type": "code",
   "execution_count": 84,
   "metadata": {},
   "outputs": [],
   "source": [
    "V = [i for i in range(1, n+1)] #vertices\n",
    "#edges (source, target, weight)\n",
    "E = {(1,2,9), (1,3,7), (1,4,3), (1,5,2), (2,6,4),\n",
    "         (2,7,2), (2,8,1), (3,6,2), (3,7,7), (4,8,11), \n",
    "         (5,7,11), (5,8,8), (6,9,6), (6,10,5), (7,9,4), \n",
    "         (7,10,3), (8,10,5), (8,11,6), (9,12,4), (10,12,2), (11,12,5)}"
   ]
  },
  {
   "cell_type": "markdown",
   "metadata": {},
   "source": [
    "### Initialization"
   ]
  },
  {
   "cell_type": "code",
   "execution_count": 88,
   "metadata": {},
   "outputs": [],
   "source": [
    "n = len(V) #number of vertices\n",
    "#form the adjacency list\n",
    "adj_list = [[] for i in range(n)]\n",
    "for (source, target, weight) in E:\n",
    "    adj_list[source-1].append((target-1, weight))\n",
    "#cost\n",
    "cost = [None]*n\n",
    "#Horowitz: cost[n] = 0.0\n",
    "cost[n-1] = 0 #target (last) vertex\n",
    "#path\n",
    "decision = [None]*(n-1) #minimum cost target nodes of all but last node"
   ]
  },
  {
   "cell_type": "markdown",
   "metadata": {},
   "source": [
    "### Program"
   ]
  },
  {
   "cell_type": "code",
   "execution_count": 89,
   "metadata": {},
   "outputs": [
    {
     "name": "stdout",
     "output_type": "stream",
     "text": [
      "The minimum cost is: 16\n",
      "The minimum cost path is: ['Node 1', 'Node 2', 'Node 7', 'Node 10', 'Node 12']\n"
     ]
    }
   ],
   "source": [
    "#iterate in reverse starting from the second-last vertex\n",
    "#the last vertex (at n-1) cost is zero\n",
    "#we build the cost one vertex at a time in reverse order\n",
    "#we reuse the computed costs of higher nodes multiple times (whenever they appear as a target vertex of an edge)\n",
    "for j in range (n-2, -1, -1):\n",
    "    cost[j] = sys.maxsize #initialize minumum cost to a maximum value\n",
    "    #iterate over all target nodes to find the one with minimum cost\n",
    "    for (id, weight) in adj_list[j]:\n",
    "        #cost is the weight of the edge from vertex j to the target vertex\n",
    "        # + the cost of the target vertex (which was already calculated earlier)\n",
    "        #Horowitz: cost[j] = c[j, r] + cost[r]: take minimum cost target\n",
    "        cost_target = weight + cost[id]\n",
    "        #see if this cost is the minimum\n",
    "        if (cost_target < cost[j]):\n",
    "            cost[j] = cost_target\n",
    "            #Horowitz: d[j] = r\n",
    "            decision[j] = id\n",
    "            \n",
    "print('The minimum cost is:', cost[0])\n",
    "min_path = ['Node 1']\n",
    "i = decision[0]\n",
    "while i != n-1:\n",
    "    min_path.append('Node ' + str(i+1))\n",
    "    i = decision[i]\n",
    "min_path.append('Node ' + str(n))\n",
    "print('The minimum cost path is:', min_path)"
   ]
  },
  {
   "cell_type": "code",
   "execution_count": null,
   "metadata": {},
   "outputs": [],
   "source": []
  }
 ],
 "metadata": {
  "kernelspec": {
   "display_name": "Python 3",
   "language": "python",
   "name": "python3"
  },
  "language_info": {
   "codemirror_mode": {
    "name": "ipython",
    "version": 3
   },
   "file_extension": ".py",
   "mimetype": "text/x-python",
   "name": "python",
   "nbconvert_exporter": "python",
   "pygments_lexer": "ipython3",
   "version": "3.7.4"
  }
 },
 "nbformat": 4,
 "nbformat_minor": 2
}
