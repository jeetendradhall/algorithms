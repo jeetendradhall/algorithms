{
 "cells": [
  {
   "cell_type": "markdown",
   "metadata": {},
   "source": [
    "### Data"
   ]
  },
  {
   "cell_type": "code",
   "execution_count": 6,
   "metadata": {},
   "outputs": [],
   "source": [
    "V = [i for i in range(1, n+1)] #vertices\n",
    "#edges (source, target, weight)\n",
    "E = {(1,2,9), (1,3,7), (1,4,3), (1,5,2), (2,6,4),\n",
    "         (2,7,2), (2,8,1), (3,6,2), (3,7,7), (4,8,11), \n",
    "         (5,7,11), (5,8,8), (6,9,6), (6,10,5), (7,9,4), \n",
    "         (7,10,3), (8,10,5), (8,11,6), (9,12,4), (10,12,2), (11,12,5)}"
   ]
  },
  {
   "cell_type": "markdown",
   "metadata": {},
   "source": [
    "### Initialization"
   ]
  },
  {
   "cell_type": "code",
   "execution_count": 35,
   "metadata": {},
   "outputs": [
    {
     "data": {
      "text/plain": [
       "[None, None, None, None, None, None, None, None, None, None, None, 0]"
      ]
     },
     "execution_count": 35,
     "metadata": {},
     "output_type": "execute_result"
    }
   ],
   "source": [
    "n = len(V) #number of vertices\n",
    "#form the adjacency list\n",
    "adj_list = [[] for i in range(n)]\n",
    "for (source, target, weight) in E:\n",
    "    adj_list[source-1].append((target-1, weight))\n",
    "#cost\n",
    "cost = [None]*n\n",
    "cost[n-1] = 0 #target (last) vertex"
   ]
  },
  {
   "cell_type": "markdown",
   "metadata": {},
   "source": [
    "### Program"
   ]
  },
  {
   "cell_type": "code",
   "execution_count": 37,
   "metadata": {},
   "outputs": [
    {
     "name": "stdout",
     "output_type": "stream",
     "text": [
      "10\n",
      "9\n",
      "8\n",
      "7\n",
      "6\n",
      "5\n",
      "4\n",
      "3\n",
      "2\n",
      "1\n",
      "0\n"
     ]
    }
   ],
   "source": [
    "#iterate in reverse starting from the second-last vertex\n",
    "#the last vertex (at n-1) cost is zero\n",
    "#we build the cost one vertex at a time in reverse order\n",
    "#we reuse the computed costs of higher nodes multiple times (whenever they appear as a target vertex of an edge)\n",
    "for j in range (n-2, -1, -1):\n",
    "    "
   ]
  },
  {
   "cell_type": "code",
   "execution_count": null,
   "metadata": {},
   "outputs": [],
   "source": []
  }
 ],
 "metadata": {
  "kernelspec": {
   "display_name": "Python 3",
   "language": "python",
   "name": "python3"
  },
  "language_info": {
   "codemirror_mode": {
    "name": "ipython",
    "version": 3
   },
   "file_extension": ".py",
   "mimetype": "text/x-python",
   "name": "python",
   "nbconvert_exporter": "python",
   "pygments_lexer": "ipython3",
   "version": "3.7.4"
  }
 },
 "nbformat": 4,
 "nbformat_minor": 2
}
