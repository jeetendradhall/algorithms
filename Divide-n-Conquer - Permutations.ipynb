{
 "cells": [
  {
   "cell_type": "code",
   "execution_count": null,
   "metadata": {},
   "outputs": [],
   "source": [
    "from collections import deque\n",
    "from math import factorial"
   ]
  },
  {
   "cell_type": "code",
   "execution_count": null,
   "metadata": {},
   "outputs": [],
   "source": [
    "def get_suffixes(qu):\n",
    "    #set_trace()\n",
    "    #if the queue is just one element long, return the element as a suffix\n",
    "    if len(qu)==1:\n",
    "        return qu.pop()\n",
    "\n",
    "    #permutations using the input queue\n",
    "    permutations = []\n",
    "    \n",
    "    #set each element as prefix, and send the remaining elements down for suffix creation\n",
    "    for i in range(len(qu)):\n",
    "        prefix = qu.popleft()\n",
    "        #divide-n-conquer\n",
    "        #recursively solve the similar subproblem of one size smaller,\n",
    "        # till only one element remains. in that case, there is no suffix, and return the prefix\n",
    "        suffixes = get_suffixes(qu.copy())\n",
    "        #combine suffixes with prefix to form a permutation\n",
    "        for suffix in suffixes:\n",
    "            permutations.append(prefix + suffix)\n",
    "        qu.append(prefix)\n",
    "        \n",
    "    return permutations"
   ]
  },
  {
   "cell_type": "code",
   "execution_count": null,
   "metadata": {},
   "outputs": [],
   "source": [
    "meta_input = \"abcde\"\n",
    "inputs = [meta_input[:i+1] for i in range(len(meta_input))]\n",
    "for s in inputs:\n",
    "    l = len(s)\n",
    "    permutations = get_suffixes(deque(s))\n",
    "    print('input: ', s, ';  ', l, '-factorial: ', factorial(l), ';  no. of perms: ', len(permutations))\n",
    "    print('permutations:')\n",
    "    print(permutations, '\\n')"
   ]
  }
 ],
 "metadata": {
  "kernelspec": {
   "display_name": "Python 3",
   "language": "python",
   "name": "python3"
  },
  "language_info": {
   "codemirror_mode": {
    "name": "ipython",
    "version": 3
   },
   "file_extension": ".py",
   "mimetype": "text/x-python",
   "name": "python",
   "nbconvert_exporter": "python",
   "pygments_lexer": "ipython3",
   "version": "3.7.4"
  }
 },
 "nbformat": 4,
 "nbformat_minor": 2
}
