{
 "cells": [
  {
   "cell_type": "code",
   "execution_count": 1,
   "metadata": {},
   "outputs": [],
   "source": [
    "from collections import deque\n",
    "from math import factorial"
   ]
  },
  {
   "cell_type": "code",
   "execution_count": 2,
   "metadata": {},
   "outputs": [],
   "source": [
    "def get_suffixes(qu):\n",
    "    #set_trace()\n",
    "    #if the queue is just one element long, return the element as a suffix\n",
    "    if len(qu)==1:\n",
    "        return qu.pop()\n",
    "\n",
    "    #permutations using the input queue\n",
    "    permutations = []\n",
    "    \n",
    "    #set each element as prefix, and send the remaining elements down for suffix creation\n",
    "    for i in range(len(qu)):\n",
    "        prefix = qu.popleft()\n",
    "        #divide-n-conquer\n",
    "        #recursively solve the similar subproblem of one size smaller,\n",
    "        # till only one element remains. in that case, there is no suffix, and return the prefix\n",
    "        suffixes = get_suffixes(qu.copy())\n",
    "        #combine suffixes with prefix to form a permutation\n",
    "        for suffix in suffixes:\n",
    "            permutations.append(prefix + suffix)\n",
    "        qu.append(prefix)\n",
    "        \n",
    "    return permutations"
   ]
  },
  {
   "cell_type": "code",
   "execution_count": 3,
   "metadata": {},
   "outputs": [
    {
     "name": "stdout",
     "output_type": "stream",
     "text": [
      "input:  a ;   1 -factorial:  1 ;  no. of perms:  1\n",
      "permutations:\n",
      "a \n",
      "\n",
      "input:  ab ;   2 -factorial:  2 ;  no. of perms:  2\n",
      "permutations:\n",
      "['ab', 'ba'] \n",
      "\n",
      "input:  abc ;   3 -factorial:  6 ;  no. of perms:  6\n",
      "permutations:\n",
      "['abc', 'acb', 'bca', 'bac', 'cab', 'cba'] \n",
      "\n",
      "input:  abcd ;   4 -factorial:  24 ;  no. of perms:  24\n",
      "permutations:\n",
      "['abcd', 'abdc', 'acdb', 'acbd', 'adbc', 'adcb', 'bcda', 'bcad', 'bdac', 'bdca', 'bacd', 'badc', 'cdab', 'cdba', 'cabd', 'cadb', 'cbda', 'cbad', 'dabc', 'dacb', 'dbca', 'dbac', 'dcab', 'dcba'] \n",
      "\n",
      "input:  abcde ;   5 -factorial:  120 ;  no. of perms:  120\n",
      "permutations:\n",
      "['abcde', 'abced', 'abdec', 'abdce', 'abecd', 'abedc', 'acdeb', 'acdbe', 'acebd', 'acedb', 'acbde', 'acbed', 'adebc', 'adecb', 'adbce', 'adbec', 'adceb', 'adcbe', 'aebcd', 'aebdc', 'aecdb', 'aecbd', 'aedbc', 'aedcb', 'bcdea', 'bcdae', 'bcead', 'bceda', 'bcade', 'bcaed', 'bdeac', 'bdeca', 'bdace', 'bdaec', 'bdcea', 'bdcae', 'beacd', 'beadc', 'becda', 'becad', 'bedac', 'bedca', 'bacde', 'baced', 'badec', 'badce', 'baecd', 'baedc', 'cdeab', 'cdeba', 'cdabe', 'cdaeb', 'cdbea', 'cdbae', 'ceabd', 'ceadb', 'cebda', 'cebad', 'cedab', 'cedba', 'cabde', 'cabed', 'cadeb', 'cadbe', 'caebd', 'caedb', 'cbdea', 'cbdae', 'cbead', 'cbeda', 'cbade', 'cbaed', 'deabc', 'deacb', 'debca', 'debac', 'decab', 'decba', 'dabce', 'dabec', 'daceb', 'dacbe', 'daebc', 'daecb', 'dbcea', 'dbcae', 'dbeac', 'dbeca', 'dbace', 'dbaec', 'dceab', 'dceba', 'dcabe', 'dcaeb', 'dcbea', 'dcbae', 'eabcd', 'eabdc', 'eacdb', 'eacbd', 'eadbc', 'eadcb', 'ebcda', 'ebcad', 'ebdac', 'ebdca', 'ebacd', 'ebadc', 'ecdab', 'ecdba', 'ecabd', 'ecadb', 'ecbda', 'ecbad', 'edabc', 'edacb', 'edbca', 'edbac', 'edcab', 'edcba'] \n",
      "\n"
     ]
    }
   ],
   "source": [
    "meta_input = \"abcde\"\n",
    "inputs = [meta_input[:i+1] for i in range(len(meta_input))]\n",
    "for s in inputs:\n",
    "    l = len(s)\n",
    "    permutations = get_suffixes(deque(s))\n",
    "    print('input: ', s, ';  ', l, '-factorial: ', factorial(l), ';  no. of perms: ', len(permutations))\n",
    "    print('permutations:')\n",
    "    print(permutations, '\\n')"
   ]
  }
 ],
 "metadata": {
  "kernelspec": {
   "display_name": "Python 3",
   "language": "python",
   "name": "python3"
  },
  "language_info": {
   "codemirror_mode": {
    "name": "ipython",
    "version": 3
   },
   "file_extension": ".py",
   "mimetype": "text/x-python",
   "name": "python",
   "nbconvert_exporter": "python",
   "pygments_lexer": "ipython3",
   "version": "3.8.3"
  }
 },
 "nbformat": 4,
 "nbformat_minor": 2
}
