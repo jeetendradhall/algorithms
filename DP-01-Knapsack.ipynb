{
 "cells": [
  {
   "cell_type": "markdown",
   "metadata": {},
   "source": [
    "### Data"
   ]
  },
  {
   "cell_type": "code",
   "execution_count": 110,
   "metadata": {},
   "outputs": [],
   "source": [
    "#Levitin Section 8.4\n",
    "weights = [2, 1, 3, 2]\n",
    "values = [12, 10, 20, 15]\n",
    "#weights = [3, 2, 1, 2]\n",
    "#values = [20, 12, 10, 15]\n",
    "n = len(weights) #number of items\n",
    "W = 5 #capacity\n",
    "\n",
    "#Horowitz Ex.5.21\n",
    "weights = [2, 3, 4]\n",
    "values = [1, 2, 5]\n",
    "n = len(weights) #number of items\n",
    "W = 6"
   ]
  },
  {
   "cell_type": "markdown",
   "metadata": {},
   "source": [
    "### Initialization"
   ]
  },
  {
   "cell_type": "code",
   "execution_count": 111,
   "metadata": {},
   "outputs": [],
   "source": [
    "#values matrix\n",
    "V = [[0 for j in range(W+1)] for i in range(n)]\n",
    "\n",
    "#set the values for capacities for the list of items only having the first item\n",
    "#if first item can fit in the knapsack, set the value for capacity to the value of the item\n",
    "\n",
    "#lambda to set value to the value of the item (if it fits) or 0 (it it doesn't fit)\n",
    "v = lambda c: values[0] if c >= weights[0] else 0\n",
    "V[0] = [v(c) for c in range(W+1)]"
   ]
  },
  {
   "cell_type": "markdown",
   "metadata": {},
   "source": [
    "### Program"
   ]
  },
  {
   "cell_type": "markdown",
   "metadata": {},
   "source": [
    "#### prepare the values matrix"
   ]
  },
  {
   "cell_type": "code",
   "execution_count": 112,
   "metadata": {},
   "outputs": [
    {
     "name": "stdout",
     "output_type": "stream",
     "text": [
      "The value matrix is: \n",
      " 0\t0\t1\t1\t1\t1\t1\n",
      "0\t0\t1\t2\t2\t3\t3\n",
      "0\t0\t1\t2\t5\t5\t6\n",
      "The maximum value is 6\n"
     ]
    }
   ],
   "source": [
    "for i in range (1, n):\n",
    "    for j in range (1, W+1):\n",
    "        if weights[i] <= j: #if item can fit\n",
    "            #maximum of (value if item excluded, value if item included)\n",
    "            V[i][j] = max (V[i-1][j], values[i] + V[i-1][j-weights[i]])\n",
    "        else:\n",
    "            V[i][j] = V[i-1][j] #exclude the item\n",
    "print ('The value matrix is: \\n', '\\n'.join('\\t'.join(str(v) for v in row) for row in V))\n",
    "print ('The maximum value is', V[n-1][W])"
   ]
  },
  {
   "cell_type": "markdown",
   "metadata": {},
   "source": [
    "#### find the composition of the optimal set"
   ]
  },
  {
   "cell_type": "code",
   "execution_count": 113,
   "metadata": {},
   "outputs": [
    {
     "name": "stdout",
     "output_type": "stream",
     "text": [
      "The optimal subset is ['item 1', 'item 3']\n"
     ]
    }
   ],
   "source": [
    "items = []\n",
    "i = n-1; j = W #start from bottom-right\n",
    "#while we still have rows (since the first row is actually first item's row)\n",
    "#while we are not in first column\n",
    "while i > 0 and j > 0:\n",
    "    if V[i][j] != V[i-1][j]: #if value is not the same as the cell above\n",
    "        items.insert(0, 'item ' + str(i+1)) #this item was included\n",
    "        j -= weights[i] #reduce the capacity (jump 'weight long' to a column on the left)\n",
    "    i -= 1 #move to the previous row\n",
    "#since we do not have a header row, like we have a header column,\n",
    "#the loop terminates without including the first item even if it was part of the optimal set.\n",
    "#we just compare the cell with 0, which is supposed to be the cell above it.\n",
    "if V[i][j] > 0:\n",
    "    items.insert(0, 'item ' + str(i+1)) #this item was included\n",
    "print ('The optimal subset is', items)"
   ]
  }
 ],
 "metadata": {
  "kernelspec": {
   "display_name": "Python 3",
   "language": "python",
   "name": "python3"
  },
  "language_info": {
   "codemirror_mode": {
    "name": "ipython",
    "version": 3
   },
   "file_extension": ".py",
   "mimetype": "text/x-python",
   "name": "python",
   "nbconvert_exporter": "python",
   "pygments_lexer": "ipython3",
   "version": "3.7.4"
  }
 },
 "nbformat": 4,
 "nbformat_minor": 2
}
