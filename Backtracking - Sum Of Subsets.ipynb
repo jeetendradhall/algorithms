{
 "cells": [
  {
   "cell_type": "markdown",
   "metadata": {},
   "source": [
    "### Input"
   ]
  },
  {
   "cell_type": "code",
   "execution_count": null,
   "metadata": {},
   "outputs": [],
   "source": [
    "W = [24, 7, 13, 11] #set of numbers\n",
    "m = 31 #total"
   ]
  },
  {
   "cell_type": "markdown",
   "metadata": {},
   "source": [
    "### Program"
   ]
  },
  {
   "cell_type": "code",
   "execution_count": null,
   "metadata": {},
   "outputs": [],
   "source": [
    "#implicit constraint: sum of components does not exceed m\n",
    "# (where m is the desired total)\n",
    "def do_implicit_constraints_hold(partial_sol, comp):\n",
    "    #does the total exceed m?\n",
    "    if (sum(partial_sol + [comp]) > m):\n",
    "        return False #constraint violated\n",
    "    \n",
    "    #we wish to avoid generating multiple instances of the same subset.\n",
    "    #so, let us have an ordering constraint.\n",
    "    #since we start with an empty partial_sol,\n",
    "    #we can just check ordering of\n",
    "    # the last component of partial_sol (if partial_sol is not empty)\n",
    "    # with the prospective component\n",
    "    l = len(partial_sol)\n",
    "    if (l > 0):\n",
    "        if comp < partial_sol[l-1]:\n",
    "            return False\n",
    "    \n",
    "    return True"
   ]
  },
  {
   "cell_type": "code",
   "execution_count": null,
   "metadata": {},
   "outputs": [],
   "source": [
    "def backtrack(partial_sol):\n",
    "    #we have a solution if the total equals m\n",
    "    if (sum(partial_sol) == m):\n",
    "        sols.append(partial_sol)\n",
    "        return\n",
    "\n",
    "    #prospective candidates for the next number are those\n",
    "    # that are not yet in the partial solution\n",
    "    comps = list(set(W) - set(partial_sol))\n",
    "    #traverse depth-first for all candidates\n",
    "    for comp in comps:\n",
    "        if (do_implicit_constraints_hold(partial_sol, comp)):\n",
    "            backtrack(partial_sol + [comp])\n",
    "\n",
    "    return"
   ]
  },
  {
   "cell_type": "markdown",
   "metadata": {},
   "source": [
    "### Test"
   ]
  },
  {
   "cell_type": "code",
   "execution_count": null,
   "metadata": {},
   "outputs": [],
   "source": [
    "sols = []\n",
    "backtrack([])\n",
    "print('Number of solutions:', len(sols))\n",
    "print('Solutions:\\n', sols)"
   ]
  }
 ],
 "metadata": {
  "kernelspec": {
   "display_name": "Python 3",
   "language": "python",
   "name": "python3"
  },
  "language_info": {
   "codemirror_mode": {
    "name": "ipython",
    "version": 3
   },
   "file_extension": ".py",
   "mimetype": "text/x-python",
   "name": "python",
   "nbconvert_exporter": "python",
   "pygments_lexer": "ipython3",
   "version": "3.7.4"
  }
 },
 "nbformat": 4,
 "nbformat_minor": 2
}
