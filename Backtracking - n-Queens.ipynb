{
 "cells": [
  {
   "cell_type": "markdown",
   "metadata": {},
   "source": [
    "### Input"
   ]
  },
  {
   "cell_type": "code",
   "execution_count": null,
   "metadata": {},
   "outputs": [],
   "source": [
    "n = 8"
   ]
  },
  {
   "cell_type": "markdown",
   "metadata": {},
   "source": [
    "### Initialization"
   ]
  },
  {
   "cell_type": "code",
   "execution_count": null,
   "metadata": {},
   "outputs": [],
   "source": [
    "#candidates/components for position i+1\n",
    "sol_space = [i for i in range(1, n+1)] #Horowitz: T(x[1], ..., x[k-1])"
   ]
  },
  {
   "cell_type": "markdown",
   "metadata": {},
   "source": [
    "### Program"
   ]
  },
  {
   "cell_type": "code",
   "execution_count": null,
   "metadata": {},
   "outputs": [],
   "source": [
    "#implicit constraint: component not on diagonal of any of the partial solution components\n",
    "def do_implicit_constraints_hold(partial_sol, comp):\n",
    "    #violated if the component lies on the diagonal of the partial solution components\n",
    "    #reverse traverse the components,\n",
    "    # enumerating to calculate the columns that will be on the diagonals of the component\n",
    "    for rows_prior, partial_sol_comp_col in enumerate(reversed(partial_sol)):\n",
    "        #columns on the component diagonals,\n",
    "        # for a given row 'rows_prior' above the component row\n",
    "        diagonal_col_left = comp - (rows_prior+1)\n",
    "        diagonal_col_right = comp + (rows_prior+1)\n",
    "        #if partial solution component column falls on the diagonals of the component\n",
    "        if (partial_sol_comp_col == diagonal_col_left) \\\n",
    "        or (partial_sol_comp_col == diagonal_col_right):\n",
    "            return False    \n",
    "    return True"
   ]
  },
  {
   "cell_type": "code",
   "execution_count": null,
   "metadata": {},
   "outputs": [],
   "source": [
    "def backtrack(partial_sol):\n",
    "    #we have a solution if the length of partial solution equals n\n",
    "    if len(partial_sol) == n:\n",
    "        sols.append(partial_sol) #record the solution found. traversal continues\n",
    "        return\n",
    "\n",
    "    #prospective candidates for the next position are those columns\n",
    "    # that are not yet in the partial solution\n",
    "    comps = list(set(sol_space) - set(partial_sol))\n",
    "    #traverse depth-first for all candidates\n",
    "    for comp in comps:\n",
    "        #traverse deeper of the constraints hold,\n",
    "        # else we return (implicitly) aborting further search\n",
    "        #this is our bounding function\n",
    "        if do_implicit_constraints_hold(partial_sol, comp):\n",
    "            backtrack(partial_sol + [comp])#depth-first"
   ]
  },
  {
   "cell_type": "code",
   "execution_count": null,
   "metadata": {},
   "outputs": [],
   "source": [
    "#list of all solutions - populated as we continue traversal post finding a solution\n",
    "sols = []\n",
    "backtrack([])\n",
    "print('Number of solutions:', len(sols))\n",
    "print('Solutions:\\n', sols)"
   ]
  }
 ],
 "metadata": {
  "kernelspec": {
   "display_name": "Python 3",
   "language": "python",
   "name": "python3"
  },
  "language_info": {
   "codemirror_mode": {
    "name": "ipython",
    "version": 3
   },
   "file_extension": ".py",
   "mimetype": "text/x-python",
   "name": "python",
   "nbconvert_exporter": "python",
   "pygments_lexer": "ipython3",
   "version": "3.7.4"
  }
 },
 "nbformat": 4,
 "nbformat_minor": 2
}
